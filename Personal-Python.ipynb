{
 "cells": [
  {
   "cell_type": "code",
   "execution_count": 1,
   "metadata": {},
   "outputs": [
    {
     "name": "stdout",
     "output_type": "stream",
     "text": [
      "Hello, World\n"
     ]
    }
   ],
   "source": [
    "print(\"Hello, World\")"
   ]
  },
  {
   "cell_type": "code",
   "execution_count": 2,
   "metadata": {},
   "outputs": [
    {
     "name": "stdout",
     "output_type": "stream",
     "text": [
      "Five is greater than two!\n",
      "Two is less than five!\n"
     ]
    }
   ],
   "source": [
    "if 5 > 2:\n",
    "    print(f\"Five is greater than two!\")\n",
    "if 2 < 5:\n",
    "    print(f\"Two is less than five!\")"
   ]
  },
  {
   "cell_type": "code",
   "execution_count": 3,
   "metadata": {},
   "outputs": [
    {
     "name": "stdout",
     "output_type": "stream",
     "text": [
      "10\n",
      "Love you mama!\n"
     ]
    }
   ],
   "source": [
    "x = 10\n",
    "\n",
    "y = \"Love you mama!\"\n",
    "\n",
    "print(x)\n",
    "print(y)"
   ]
  },
  {
   "cell_type": "code",
   "execution_count": 4,
   "metadata": {},
   "outputs": [
    {
     "name": "stdout",
     "output_type": "stream",
     "text": [
      "60\n"
     ]
    }
   ],
   "source": [
    "# this is a comment\n",
    "x=10\n",
    "y=50\n",
    "print(x + y)"
   ]
  },
  {
   "cell_type": "code",
   "execution_count": 5,
   "metadata": {},
   "outputs": [
    {
     "name": "stdout",
     "output_type": "stream",
     "text": [
      "60\n"
     ]
    }
   ],
   "source": [
    "\"\"\"\"\n",
    "this is a comment\n",
    "written in \n",
    "more than just one line\n",
    "\"\"\"\n",
    "x=10\n",
    "y=50\n",
    "print(x + y)"
   ]
  },
  {
   "cell_type": "code",
   "execution_count": 6,
   "metadata": {},
   "outputs": [
    {
     "name": "stdout",
     "output_type": "stream",
     "text": [
      "Sally\n"
     ]
    }
   ],
   "source": [
    "x = 4 # x is of type int\n",
    "x= \"Sally\" # y is of type str\n",
    "print(x)\n"
   ]
  },
  {
   "cell_type": "code",
   "execution_count": 7,
   "metadata": {},
   "outputs": [
    {
     "name": "stdout",
     "output_type": "stream",
     "text": [
      "3\n",
      "3\n",
      "3.0\n"
     ]
    }
   ],
   "source": [
    "x = str(3) # x will be '3'\n",
    "y = int(3) # y will be '3'\n",
    "z = float(3) # z will be '3.0'\n",
    "print(x)\n",
    "print(y)\n",
    "print(z)"
   ]
  },
  {
   "cell_type": "code",
   "execution_count": 8,
   "metadata": {},
   "outputs": [
    {
     "name": "stdout",
     "output_type": "stream",
     "text": [
      "<class 'int'>\n",
      "<class 'str'>\n"
     ]
    }
   ],
   "source": [
    "x = 5\n",
    "y=\"Joel\"\n",
    "print(type(x))\n",
    "print(type(y))"
   ]
  },
  {
   "cell_type": "code",
   "execution_count": 9,
   "metadata": {},
   "outputs": [
    {
     "name": "stdout",
     "output_type": "stream",
     "text": [
      "Joel\n"
     ]
    }
   ],
   "source": [
    "x = \"Joel\"\n",
    "# is the same as \n",
    "x = 'Joel'\n",
    "\n",
    "print(x)"
   ]
  },
  {
   "cell_type": "code",
   "execution_count": 10,
   "metadata": {},
   "outputs": [
    {
     "name": "stdout",
     "output_type": "stream",
     "text": [
      "4\n",
      "Sally\n"
     ]
    }
   ],
   "source": [
    "a = 4\n",
    "A = \"Sally\"\n",
    "print(a)\n",
    "print(A)"
   ]
  },
  {
   "cell_type": "code",
   "execution_count": 11,
   "metadata": {},
   "outputs": [
    {
     "name": "stdout",
     "output_type": "stream",
     "text": [
      "Joel\n",
      "Sally\n",
      "10\n"
     ]
    }
   ],
   "source": [
    "x, y, z = \"Joel\", \"Sally\", 10\n",
    "\n",
    "print(x)\n",
    "print(y)\n",
    "print(z)"
   ]
  },
  {
   "cell_type": "code",
   "execution_count": 12,
   "metadata": {},
   "outputs": [
    {
     "name": "stdout",
     "output_type": "stream",
     "text": [
      "Joel\n",
      "Joel\n",
      "Joel\n"
     ]
    }
   ],
   "source": [
    "x = y = z = \"Joel\"\n",
    "print(x)\n",
    "print(y)\n",
    "print(z)"
   ]
  },
  {
   "cell_type": "code",
   "execution_count": 13,
   "metadata": {},
   "outputs": [
    {
     "name": "stdout",
     "output_type": "stream",
     "text": [
      "apple\n",
      "banana\n",
      "cherry\n"
     ]
    }
   ],
   "source": [
    "fruits = [\"apple\", \"banana\", \"cherry\"]\n",
    "x, y, z = fruits\n",
    "print(x)\n",
    "print(y)\n",
    "print(z)"
   ]
  },
  {
   "cell_type": "code",
   "execution_count": 14,
   "metadata": {},
   "outputs": [
    {
     "name": "stdout",
     "output_type": "stream",
     "text": [
      "Python is awesome\n"
     ]
    }
   ],
   "source": [
    "x = \"Python is awesome\"\n",
    "print(x)"
   ]
  },
  {
   "cell_type": "code",
   "execution_count": 15,
   "metadata": {},
   "outputs": [
    {
     "name": "stdout",
     "output_type": "stream",
     "text": [
      "Python is awesome\n"
     ]
    }
   ],
   "source": [
    "x= \"Python\"\n",
    "y= \"is\"\n",
    "z= \"awesome\"\n",
    "print(x,y,z)"
   ]
  },
  {
   "cell_type": "code",
   "execution_count": 16,
   "metadata": {},
   "outputs": [
    {
     "name": "stdout",
     "output_type": "stream",
     "text": [
      "Python is awesome \n"
     ]
    }
   ],
   "source": [
    "x = \"Python \"\n",
    "y = \"is \"\n",
    "z = \"awesome \"\n",
    "print(x + y + z)"
   ]
  },
  {
   "cell_type": "code",
   "execution_count": 17,
   "metadata": {},
   "outputs": [
    {
     "name": "stdout",
     "output_type": "stream",
     "text": [
      "15\n"
     ]
    }
   ],
   "source": [
    "x = 5\n",
    "y = 10\n",
    "print(x + y)"
   ]
  },
  {
   "cell_type": "code",
   "execution_count": 18,
   "metadata": {},
   "outputs": [
    {
     "name": "stdout",
     "output_type": "stream",
     "text": [
      "5 Joel\n"
     ]
    }
   ],
   "source": [
    "x = 5 \n",
    "y = \"Joel\"\n",
    "print(x , y)"
   ]
  },
  {
   "cell_type": "code",
   "execution_count": 19,
   "metadata": {},
   "outputs": [
    {
     "name": "stdout",
     "output_type": "stream",
     "text": [
      "Python is awesome \n"
     ]
    }
   ],
   "source": [
    " # Create a variable outside of the function\n",
    "x = \"awesome \"\n",
    "def myfunc():\n",
    "    print(\"Python is \" + x)\n",
    "myfunc()"
   ]
  },
  {
   "cell_type": "code",
   "execution_count": 20,
   "metadata": {},
   "outputs": [
    {
     "name": "stdout",
     "output_type": "stream",
     "text": [
      "Python is Fantastic\n",
      "Python is awesome \n"
     ]
    }
   ],
   "source": [
    "# Create a variable inside of the function\n",
    "\n",
    "x = \"awesome \"\n",
    "def myfunc():\n",
    "    x = \"Fantastic\"\n",
    "    print(\"Python is \" + x)\n",
    "myfunc()\n",
    "print(\"Python is \" + x)"
   ]
  },
  {
   "cell_type": "code",
   "execution_count": 21,
   "metadata": {},
   "outputs": [
    {
     "name": "stdout",
     "output_type": "stream",
     "text": [
      "Python is Fantastic\n"
     ]
    }
   ],
   "source": [
    "# Global keyword belong to the global scope\n",
    "\n",
    "def myfunc():\n",
    "    global x\n",
    "    x = \"Fantastic\"\n",
    "\n",
    "myfunc()\n",
    "print(\"Python is \" + x)"
   ]
  },
  {
   "cell_type": "code",
   "execution_count": 22,
   "metadata": {},
   "outputs": [
    {
     "name": "stdout",
     "output_type": "stream",
     "text": [
      "Python is Fantastic\n"
     ]
    }
   ],
   "source": [
    "# Global variable inside of the function\n",
    "\n",
    "x = \"awesome \"\n",
    "def myfunc():\n",
    "    global x\n",
    "    x = \"Fantastic\"\n",
    "myfunc()\n",
    "\n",
    "print(\"Python is \" + x)"
   ]
  },
  {
   "cell_type": "markdown",
   "metadata": {},
   "source": [
    "Test Type : str \n",
    "Numeric Types : int, float, complex\n",
    "Sequence Types : list, tuple, range\n",
    "Mapping Types : dict\n",
    "Set Types: set, frozenset\n",
    "Boolean Types : bool\n",
    "Binary Types : bytes, bytearray, memoryview\n",
    "None Type : NoneType"
   ]
  },
  {
   "cell_type": "code",
   "execution_count": 23,
   "metadata": {},
   "outputs": [
    {
     "name": "stdout",
     "output_type": "stream",
     "text": [
      "<class 'str'>\n",
      "<class 'int'>\n",
      "<class 'float'>\n",
      "<class 'complex'>\n",
      "<class 'list'>\n",
      "<class 'tuple'>\n",
      "<class 'range'>\n",
      "<class 'dict'>\n",
      "<class 'set'>\n",
      "<class 'frozenset'>\n",
      "<class 'bool'>\n",
      "<class 'bytes'>\n",
      "<class 'bytearray'>\n",
      "<class 'memoryview'>\n",
      "<class 'NoneType'>\n"
     ]
    }
   ],
   "source": [
    "# 1\n",
    "x = \"Hello World\"\n",
    "print(type(x))\n",
    "# 2\n",
    "x = 20\n",
    "print(type(x))\n",
    "# 3\n",
    "x = 20.0\n",
    "print(type(x))\n",
    "# 4\n",
    "x = 20j\n",
    "print(type(x))\n",
    "#5\n",
    "x = [\"Apple\", \"Banana\", \"Cherry\"]\n",
    "print(type(x))\n",
    "#6\n",
    "x = (\"Apple\", \"Banana\", \"Cherry\")\n",
    "print(type(x))\n",
    "#7\n",
    "x = range(10)\n",
    "print(type(x))\n",
    "# 8\n",
    "x = {\"Apple\" : 3 , \"Banana\" : 4, \"Cherry\" : 5}\n",
    "print(type(x))\n",
    "# 9 \n",
    "x = {\"Joel\", \"Samuel\"}\n",
    "print(type(x))\n",
    "# 10\n",
    "x = frozenset({\"Joel\", \"Samuel\"})\n",
    "print(type(x))\n",
    "# 11\n",
    "x = False\n",
    "print(type(x))\n",
    "# 12 \n",
    "x = b\"Appple\"\n",
    "print(type(x))\n",
    "# 13\n",
    "x = bytearray(5)\n",
    "print(type(x))\n",
    "# 14\n",
    "x = memoryview(bytes(5))\n",
    "print(type(x))\n",
    "# 15 \n",
    "x = None\n",
    "print(type(x))\n"
   ]
  },
  {
   "cell_type": "code",
   "execution_count": null,
   "metadata": {},
   "outputs": [],
   "source": []
  },
  {
   "cell_type": "code",
   "execution_count": null,
   "metadata": {},
   "outputs": [],
   "source": []
  },
  {
   "cell_type": "code",
   "execution_count": 24,
   "metadata": {},
   "outputs": [
    {
     "name": "stdout",
     "output_type": "stream",
     "text": [
      "<class 'int'>\n",
      "<class 'float'>\n",
      "<class 'complex'>\n"
     ]
    }
   ],
   "source": [
    "x = 1 # int\n",
    "y = 4.8 # float\n",
    "z = 2j # complex\n",
    "\n",
    "print(type(x))\n",
    "print(type(y))\n",
    "print(type(z))"
   ]
  },
  {
   "cell_type": "code",
   "execution_count": 25,
   "metadata": {},
   "outputs": [
    {
     "name": "stdout",
     "output_type": "stream",
     "text": [
      "<class 'int'>\n",
      "<class 'int'>\n",
      "<class 'int'>\n"
     ]
    }
   ],
   "source": [
    "x = 1\n",
    "y = 23455567876543456\n",
    "z = -2334556\n",
    "print(type(x))\n",
    "print(type(y))\n",
    "print(type(z))"
   ]
  },
  {
   "cell_type": "code",
   "execution_count": 26,
   "metadata": {},
   "outputs": [
    {
     "name": "stdout",
     "output_type": "stream",
     "text": [
      "<class 'float'>\n",
      "<class 'float'>\n",
      "<class 'float'>\n"
     ]
    }
   ],
   "source": [
    "x = 1.09\n",
    "y = 1.0 \n",
    "z = -45.99\n",
    "\n",
    "print(type(x))\n",
    "print(type(y))\n",
    "print(type(z))"
   ]
  },
  {
   "cell_type": "code",
   "execution_count": 27,
   "metadata": {},
   "outputs": [
    {
     "name": "stdout",
     "output_type": "stream",
     "text": [
      "<class 'float'>\n",
      "<class 'float'>\n",
      "<class 'float'>\n"
     ]
    }
   ],
   "source": [
    "x = 25e3\n",
    "y = 12E4\n",
    "z = -87.7e100\n",
    "print(type(x))\n",
    "print(type(y))\n",
    "print(type(z))"
   ]
  },
  {
   "cell_type": "code",
   "execution_count": 28,
   "metadata": {},
   "outputs": [
    {
     "name": "stdout",
     "output_type": "stream",
     "text": [
      "4.0\n",
      "2\n",
      "5j\n",
      "<class 'float'>\n",
      "<class 'int'>\n",
      "<class 'complex'>\n"
     ]
    }
   ],
   "source": [
    "x = 4 \n",
    "y = 2.6\n",
    "z = 5j\n",
    "\n",
    "# convert from int to float\n",
    "a = float(x)\n",
    "\n",
    "#convert from float to int\n",
    "b = int(y)\n",
    "\n",
    "#convert int to complex\n",
    "c = complex(z)\n",
    "\n",
    "print(a)\n",
    "print(b)\n",
    "print(c)\n",
    "\n",
    "print(type(a))\n",
    "print(type(b))\n",
    "print(type(c))"
   ]
  },
  {
   "cell_type": "code",
   "execution_count": 29,
   "metadata": {},
   "outputs": [
    {
     "name": "stdout",
     "output_type": "stream",
     "text": [
      "12\n"
     ]
    }
   ],
   "source": [
    "# RANDOM NUMBER\n",
    "\n",
    "import random\n",
    "print(random.randrange(1,19))"
   ]
  },
  {
   "cell_type": "code",
   "execution_count": 30,
   "metadata": {},
   "outputs": [
    {
     "name": "stdout",
     "output_type": "stream",
     "text": [
      "Nigga\n"
     ]
    }
   ],
   "source": [
    "a = \"Nigga\"\n",
    "print(a)"
   ]
  },
  {
   "cell_type": "code",
   "execution_count": 31,
   "metadata": {},
   "outputs": [
    {
     "name": "stdout",
     "output_type": "stream",
     "text": [
      " fuck you nigga \n"
     ]
    }
   ],
   "source": [
    "b = \"\"\" fuck you nigga \"\"\"\n",
    "print(b)"
   ]
  },
  {
   "cell_type": "code",
   "execution_count": 32,
   "metadata": {},
   "outputs": [
    {
     "name": "stdout",
     "output_type": "stream",
     "text": [
      " Love you nigga \n"
     ]
    }
   ],
   "source": [
    "c = ''' Love you nigga '''\n",
    "print(c)"
   ]
  },
  {
   "cell_type": "code",
   "execution_count": 33,
   "metadata": {},
   "outputs": [
    {
     "name": "stdout",
     "output_type": "stream",
     "text": [
      "e\n"
     ]
    }
   ],
   "source": [
    "a = \"Hello Nigga\"\n",
    "print(a[1])"
   ]
  },
  {
   "cell_type": "code",
   "execution_count": 34,
   "metadata": {},
   "outputs": [
    {
     "name": "stdout",
     "output_type": "stream",
     "text": [
      "N\n",
      "i\n",
      "g\n",
      "g\n",
      "a\n"
     ]
    }
   ],
   "source": [
    "for x in \"Nigga\":\n",
    "    print(x)"
   ]
  },
  {
   "cell_type": "code",
   "execution_count": 35,
   "metadata": {},
   "outputs": [
    {
     "name": "stdout",
     "output_type": "stream",
     "text": [
      "11\n"
     ]
    }
   ],
   "source": [
    "a = \"Hello Nigga\"\n",
    "print(len(a))"
   ]
  },
  {
   "cell_type": "code",
   "execution_count": 36,
   "metadata": {},
   "outputs": [
    {
     "name": "stdout",
     "output_type": "stream",
     "text": [
      "True\n"
     ]
    }
   ],
   "source": [
    "txt = \"Hello Nigga\"\n",
    "print(\"Nigga\" in txt )"
   ]
  },
  {
   "cell_type": "code",
   "execution_count": 37,
   "metadata": {},
   "outputs": [
    {
     "name": "stdout",
     "output_type": "stream",
     "text": [
      "Yes, 'Nigga' is in present.\n"
     ]
    }
   ],
   "source": [
    "txt = \"Hello Nigga\"\n",
    "if \"Nigga\" in txt:\n",
    "    print(\"Yes, 'Nigga' is in present.\")"
   ]
  },
  {
   "cell_type": "code",
   "execution_count": 38,
   "metadata": {},
   "outputs": [
    {
     "name": "stdout",
     "output_type": "stream",
     "text": [
      "True\n"
     ]
    }
   ],
   "source": [
    "txt = \"Hello Nigga\"\n",
    "print(\"Baah\" not in txt)"
   ]
  },
  {
   "cell_type": "code",
   "execution_count": 39,
   "metadata": {},
   "outputs": [
    {
     "name": "stdout",
     "output_type": "stream",
     "text": [
      "Yes, 'Baah' is not in present.\n"
     ]
    }
   ],
   "source": [
    "txt = \"Hello Nigga\"\n",
    "if \"Baah\" not in txt:\n",
    "    print(\"Yes, 'Baah' is not in present.\")"
   ]
  },
  {
   "cell_type": "code",
   "execution_count": 40,
   "metadata": {},
   "outputs": [
    {
     "name": "stdout",
     "output_type": "stream",
     "text": [
      "llo\n"
     ]
    }
   ],
   "source": [
    "b = \"Hello Nigga\"\n",
    "print(b[2:5])"
   ]
  },
  {
   "cell_type": "code",
   "execution_count": 41,
   "metadata": {},
   "outputs": [
    {
     "name": "stdout",
     "output_type": "stream",
     "text": [
      "Hello\n"
     ]
    }
   ],
   "source": [
    "b = \"Hello Nigga\"\n",
    "print(b[:5])"
   ]
  },
  {
   "cell_type": "code",
   "execution_count": 42,
   "metadata": {},
   "outputs": [
    {
     "name": "stdout",
     "output_type": "stream",
     "text": [
      "llo Nigga\n"
     ]
    }
   ],
   "source": [
    "b = \"Hello Nigga\"\n",
    "print(b[2:])"
   ]
  },
  {
   "cell_type": "code",
   "execution_count": 43,
   "metadata": {},
   "outputs": [
    {
     "name": "stdout",
     "output_type": "stream",
     "text": [
      "igg\n"
     ]
    }
   ],
   "source": [
    "b = \"Hello Nigga\"\n",
    "print(b[-4:-1])"
   ]
  },
  {
   "cell_type": "code",
   "execution_count": 44,
   "metadata": {},
   "outputs": [
    {
     "name": "stdout",
     "output_type": "stream",
     "text": [
      "HELLO NIGGA\n"
     ]
    }
   ],
   "source": [
    "b = \"Hello Nigga\"\n",
    "print(a.upper())"
   ]
  },
  {
   "cell_type": "code",
   "execution_count": 45,
   "metadata": {},
   "outputs": [
    {
     "name": "stdout",
     "output_type": "stream",
     "text": [
      "hello nigga\n"
     ]
    }
   ],
   "source": [
    "b = \"Hello Nigga\"\n",
    "print(b.lower())"
   ]
  },
  {
   "cell_type": "code",
   "execution_count": 46,
   "metadata": {},
   "outputs": [
    {
     "name": "stdout",
     "output_type": "stream",
     "text": [
      "Hello, Nigga!\n"
     ]
    }
   ],
   "source": [
    "b = \"Hello, Nigga!\"\n",
    "print(b.strip()) # Return Hello, Nigga!"
   ]
  },
  {
   "cell_type": "code",
   "execution_count": 47,
   "metadata": {},
   "outputs": [
    {
     "name": "stdout",
     "output_type": "stream",
     "text": [
      "Jello Nigga\n"
     ]
    }
   ],
   "source": [
    "b = \"Hello, Nigga!\"\n",
    "print(a.replace(\"H\", \"J\"))"
   ]
  },
  {
   "cell_type": "code",
   "execution_count": 48,
   "metadata": {},
   "outputs": [
    {
     "name": "stdout",
     "output_type": "stream",
     "text": [
      "['Hello', ' Nigga!']\n"
     ]
    }
   ],
   "source": [
    "a = \"Hello, Nigga!\"\n",
    "print(a.split(\",\")) # return [\"Hello\", \"Nigga!\"]"
   ]
  },
  {
   "cell_type": "code",
   "execution_count": 49,
   "metadata": {},
   "outputs": [
    {
     "name": "stdout",
     "output_type": "stream",
     "text": [
      "HelloNigga!\n"
     ]
    }
   ],
   "source": [
    "a = \"Hello\"\n",
    "b = \"Nigga!\"\n",
    "c = a + b\n",
    "print(c)"
   ]
  },
  {
   "cell_type": "code",
   "execution_count": 50,
   "metadata": {},
   "outputs": [
    {
     "name": "stdout",
     "output_type": "stream",
     "text": [
      "Hello Nigga!\n"
     ]
    }
   ],
   "source": [
    "a = \"Hello\"\n",
    "b = \"Nigga!\"\n",
    "c = a + \" \" + b\n",
    "print(c)"
   ]
  },
  {
   "cell_type": "code",
   "execution_count": 51,
   "metadata": {},
   "outputs": [
    {
     "name": "stdout",
     "output_type": "stream",
     "text": [
      "My name is Joel and I am 20\n"
     ]
    }
   ],
   "source": [
    "age = 20\n",
    "txt = \"My name is Joel and I am {}\"\n",
    "print(txt.format(age))"
   ]
  },
  {
   "cell_type": "code",
   "execution_count": 52,
   "metadata": {},
   "outputs": [
    {
     "name": "stdout",
     "output_type": "stream",
     "text": [
      " I want 3 pieces of items 534 for 45.79 dollars.\n"
     ]
    }
   ],
   "source": [
    "quantity = 3 \n",
    "itemno = 534\n",
    "price = 45.79\n",
    "myoder = \" I want {} pieces of items {} for {} dollars.\"\n",
    "print(myoder.format(quantity, itemno, price)) \n"
   ]
  },
  {
   "cell_type": "code",
   "execution_count": 53,
   "metadata": {},
   "outputs": [
    {
     "name": "stdout",
     "output_type": "stream",
     "text": [
      " I want to pay 45.79 dollars for 3 pieces of items534.\n"
     ]
    }
   ],
   "source": [
    "quantity = 3 \n",
    "itemno = 534\n",
    "price = 45.79\n",
    "myoder = \" I want to pay {2} dollars for {0} pieces of items{1}.\"\n",
    "print(myoder.format(quantity, itemno, price)) "
   ]
  },
  {
   "cell_type": "code",
   "execution_count": 54,
   "metadata": {},
   "outputs": [
    {
     "data": {
      "text/plain": [
       "'We are the so-called \"Baah\" from the north'"
      ]
     },
     "execution_count": 54,
     "metadata": {},
     "output_type": "execute_result"
    }
   ],
   "source": [
    "txt = \"We are the so-called \\\"Baah\\\" from the north\"\n",
    "txt"
   ]
  },
  {
   "cell_type": "code",
   "execution_count": 55,
   "metadata": {},
   "outputs": [
    {
     "name": "stdout",
     "output_type": "stream",
     "text": [
      "Hello\n"
     ]
    }
   ],
   "source": [
    "txt = \"\\110\\145\\154\\154\\157\"\n",
    "print(txt)"
   ]
  },
  {
   "cell_type": "code",
   "execution_count": 56,
   "metadata": {},
   "outputs": [
    {
     "name": "stdout",
     "output_type": "stream",
     "text": [
      "True\n",
      "False\n",
      "False\n"
     ]
    }
   ],
   "source": [
    "print(10 > 9)\n",
    "print(10 == 9)\n",
    "print(10 < 9)"
   ]
  },
  {
   "cell_type": "code",
   "execution_count": 57,
   "metadata": {},
   "outputs": [
    {
     "name": "stdout",
     "output_type": "stream",
     "text": [
      "b is greater than a\n"
     ]
    }
   ],
   "source": [
    "a = 200 \n",
    "b = 400\n",
    "\n",
    "if b > a:\n",
    "    print(\"b is greater than a\")\n",
    "else:\n",
    "    print(\"a is greater than b\")"
   ]
  },
  {
   "cell_type": "code",
   "execution_count": 58,
   "metadata": {},
   "outputs": [
    {
     "name": "stdout",
     "output_type": "stream",
     "text": [
      "True\n",
      "True\n"
     ]
    }
   ],
   "source": [
    "print(bool(\"Hello\"))\n",
    "print(bool(10))"
   ]
  },
  {
   "cell_type": "code",
   "execution_count": 59,
   "metadata": {},
   "outputs": [
    {
     "name": "stdout",
     "output_type": "stream",
     "text": [
      "True\n",
      "True\n"
     ]
    }
   ],
   "source": [
    "x = \"Samisco\"\n",
    "y = 10 \n",
    "print(bool(x))\n",
    "print(bool(y))"
   ]
  },
  {
   "cell_type": "code",
   "execution_count": 60,
   "metadata": {},
   "outputs": [
    {
     "data": {
      "text/plain": [
       "True"
      ]
     },
     "execution_count": 60,
     "metadata": {},
     "output_type": "execute_result"
    }
   ],
   "source": [
    "bool (\"abc\")\n",
    "bool(123)\n",
    "bool([\"Sam\",\"Joe\",\"Trina\"])"
   ]
  },
  {
   "cell_type": "code",
   "execution_count": 61,
   "metadata": {},
   "outputs": [
    {
     "name": "stdout",
     "output_type": "stream",
     "text": [
      "False\n"
     ]
    }
   ],
   "source": [
    "class myclass():\n",
    "    def __len__(self):\n",
    "         return 0 \n",
    "myobj = myclass()\n",
    "print(bool(myobj))"
   ]
  },
  {
   "cell_type": "code",
   "execution_count": 62,
   "metadata": {},
   "outputs": [
    {
     "name": "stdout",
     "output_type": "stream",
     "text": [
      "True\n"
     ]
    }
   ],
   "source": [
    "def myFunction():\n",
    "    return True\n",
    "print(myFunction())"
   ]
  },
  {
   "cell_type": "code",
   "execution_count": 63,
   "metadata": {},
   "outputs": [
    {
     "name": "stdout",
     "output_type": "stream",
     "text": [
      "Yes\n"
     ]
    }
   ],
   "source": [
    "def myFunction2():\n",
    "    return True\n",
    "if myFunction2():\n",
    "    print(\"Yes\")\n",
    "else: \n",
    "    print(\"No\")"
   ]
  },
  {
   "cell_type": "code",
   "execution_count": 64,
   "metadata": {},
   "outputs": [
    {
     "name": "stdout",
     "output_type": "stream",
     "text": [
      "True\n"
     ]
    }
   ],
   "source": [
    "x = 400\n",
    "print(isinstance(x, int))"
   ]
  },
  {
   "cell_type": "code",
   "execution_count": 65,
   "metadata": {},
   "outputs": [
    {
     "data": {
      "text/plain": [
       "15"
      ]
     },
     "execution_count": 65,
     "metadata": {},
     "output_type": "execute_result"
    }
   ],
   "source": [
    "# Addition \n",
    "10+5"
   ]
  },
  {
   "cell_type": "code",
   "execution_count": 66,
   "metadata": {},
   "outputs": [
    {
     "data": {
      "text/plain": [
       "5"
      ]
     },
     "execution_count": 66,
     "metadata": {},
     "output_type": "execute_result"
    }
   ],
   "source": [
    "#Subtraction\n",
    "10-5"
   ]
  },
  {
   "cell_type": "code",
   "execution_count": 67,
   "metadata": {},
   "outputs": [
    {
     "data": {
      "text/plain": [
       "2.0"
      ]
     },
     "execution_count": 67,
     "metadata": {},
     "output_type": "execute_result"
    }
   ],
   "source": [
    "# Division\n",
    "10/5"
   ]
  },
  {
   "cell_type": "code",
   "execution_count": 68,
   "metadata": {},
   "outputs": [
    {
     "data": {
      "text/plain": [
       "50"
      ]
     },
     "execution_count": 68,
     "metadata": {},
     "output_type": "execute_result"
    }
   ],
   "source": [
    "# Multiplication\n",
    "10*5"
   ]
  },
  {
   "cell_type": "code",
   "execution_count": 69,
   "metadata": {},
   "outputs": [
    {
     "data": {
      "text/plain": [
       "0"
      ]
     },
     "execution_count": 69,
     "metadata": {},
     "output_type": "execute_result"
    }
   ],
   "source": [
    "# Modulus \n",
    "10%5"
   ]
  },
  {
   "cell_type": "code",
   "execution_count": 70,
   "metadata": {},
   "outputs": [
    {
     "data": {
      "text/plain": [
       "100000"
      ]
     },
     "execution_count": 70,
     "metadata": {},
     "output_type": "execute_result"
    }
   ],
   "source": [
    "# Exponentiation\n",
    "10**5"
   ]
  },
  {
   "cell_type": "code",
   "execution_count": 71,
   "metadata": {},
   "outputs": [
    {
     "data": {
      "text/plain": [
       "2"
      ]
     },
     "execution_count": 71,
     "metadata": {},
     "output_type": "execute_result"
    }
   ],
   "source": [
    "# Floor division\n",
    "10//5"
   ]
  },
  {
   "cell_type": "code",
   "execution_count": 72,
   "metadata": {},
   "outputs": [
    {
     "data": {
      "text/plain": [
       "False"
      ]
     },
     "execution_count": 72,
     "metadata": {},
     "output_type": "execute_result"
    }
   ],
   "source": [
    "# and return True if both are true\n",
    "x = 5\n",
    "x < 5 and x < 5"
   ]
  },
  {
   "cell_type": "code",
   "execution_count": 73,
   "metadata": {},
   "outputs": [
    {
     "data": {
      "text/plain": [
       "False"
      ]
     },
     "execution_count": 73,
     "metadata": {},
     "output_type": "execute_result"
    }
   ],
   "source": [
    "# or Return True if both are true\n",
    "x = 10 \n",
    "x < 5 or x < 4"
   ]
  },
  {
   "cell_type": "code",
   "execution_count": 74,
   "metadata": {},
   "outputs": [
    {
     "data": {
      "text/plain": [
       "True"
      ]
     },
     "execution_count": 74,
     "metadata": {},
     "output_type": "execute_result"
    }
   ],
   "source": [
    "# not Return the result, returns False if the result is true\n",
    "x = 5\n",
    "not (x > 5  and x < 10)"
   ]
  },
  {
   "cell_type": "code",
   "execution_count": 75,
   "metadata": {},
   "outputs": [
    {
     "name": "stdout",
     "output_type": "stream",
     "text": [
      "True\n",
      "False\n",
      "True\n"
     ]
    }
   ],
   "source": [
    "# is (Return True if both variables are the same object)\n",
    "x = [\"Kwasi\", \"Kwame\"]\n",
    "y = [\"Kwasi\", \"Kwame\"]\n",
    "z = x\n",
    "\n",
    "print(x is z) # Return True because z is the same object as x\n",
    " \n",
    "print(y is x) # Return False because y is not in the same object as z even if they have the same contents\n",
    "\n",
    "print(x == y) # Return True because x has the same contents as y"
   ]
  },
  {
   "cell_type": "code",
   "execution_count": 76,
   "metadata": {},
   "outputs": [
    {
     "name": "stdout",
     "output_type": "stream",
     "text": [
      "False\n",
      "True\n",
      "False\n"
     ]
    }
   ],
   "source": [
    "# is not (Return True if both variables are not the same object)\n",
    "\n",
    "x = [\"Kwasi\", \"Kwame\"]\n",
    "y = [\"Kwasi\", \"Kwame\"]\n",
    "z = x\n",
    "\n",
    "print(x is not z) # Return False because z is not the same object as x\n",
    "\n",
    "print(y is not x) # Return True because y is not in the same object as z even if they have the same contents\n",
    "\n",
    "print (x != y) # Return False because"
   ]
  },
  {
   "cell_type": "code",
   "execution_count": 77,
   "metadata": {},
   "outputs": [
    {
     "name": "stdout",
     "output_type": "stream",
     "text": [
      "False\n",
      "True\n"
     ]
    }
   ],
   "source": [
    "# in (Return True if a sequence with the specified value is present in the object)\n",
    "\n",
    "x = [\"Kwasi\", \"Kwame\"]\n",
    "print('joel' in x)\n",
    "print('Kwasi' in x)"
   ]
  },
  {
   "cell_type": "code",
   "execution_count": 78,
   "metadata": {},
   "outputs": [
    {
     "name": "stdout",
     "output_type": "stream",
     "text": [
      "True\n",
      "False\n"
     ]
    }
   ],
   "source": [
    "# not in (Return True if a sequence with the specified value is not present in the object)\n",
    "x = [\"Kwasi\", \"Kwame\"]\n",
    "print('joel' not in x)\n",
    "print('Kwasi' not in x)"
   ]
  },
  {
   "cell_type": "code",
   "execution_count": 79,
   "metadata": {},
   "outputs": [
    {
     "name": "stdout",
     "output_type": "stream",
     "text": [
      "['Sam', 'is', 'nigga']\n"
     ]
    }
   ],
   "source": [
    "Va =  ['Sam', 'is', 'nigga']\n",
    "print(Va)"
   ]
  },
  {
   "cell_type": "code",
   "execution_count": 80,
   "metadata": {},
   "outputs": [
    {
     "name": "stdout",
     "output_type": "stream",
     "text": [
      "3\n"
     ]
    }
   ],
   "source": [
    "# List Length\n",
    "print(len(Va))"
   ]
  },
  {
   "cell_type": "code",
   "execution_count": 81,
   "metadata": {},
   "outputs": [
    {
     "name": "stdout",
     "output_type": "stream",
     "text": [
      "['Sam', 'is', 'nigga']\n",
      "[2, 3, 5, 6, 8, 10]\n",
      "[True, False, False]\n"
     ]
    }
   ],
   "source": [
    "# List Items - Data Types\n",
    "\n",
    "Va1 = ['Sam', 'is', 'nigga']\n",
    "Va2 = [2, 3, 5, 6, 8 ,10]\n",
    "Va3 = [True, False, False]\n",
    "\n",
    "print(Va1)\n",
    "print(Va2)\n",
    "print(Va3)"
   ]
  },
  {
   "cell_type": "code",
   "execution_count": 82,
   "metadata": {},
   "outputs": [
    {
     "name": "stdout",
     "output_type": "stream",
     "text": [
      "['abc', 32, True, 20, 'Man']\n"
     ]
    }
   ],
   "source": [
    "Ba1 = [\"abc\", 32, True, 20, \"Man\"]\n",
    "print(Ba1)"
   ]
  },
  {
   "cell_type": "code",
   "execution_count": 83,
   "metadata": {},
   "outputs": [
    {
     "data": {
      "text/plain": [
       "list"
      ]
     },
     "execution_count": 83,
     "metadata": {},
     "output_type": "execute_result"
    }
   ],
   "source": [
    "# Type\n",
    "type(Ba1)"
   ]
  },
  {
   "cell_type": "code",
   "execution_count": 84,
   "metadata": {},
   "outputs": [
    {
     "name": "stdout",
     "output_type": "stream",
     "text": [
      "<class 'list'>\n"
     ]
    }
   ],
   "source": [
    "Ba1 = [\"Banana\", \"Monkey\", \"Zoo\"]\n",
    "print(type(Ba1))"
   ]
  },
  {
   "cell_type": "code",
   "execution_count": 85,
   "metadata": {},
   "outputs": [
    {
     "name": "stdout",
     "output_type": "stream",
     "text": [
      "['Apple', 'Banana', 'Monkey']\n"
     ]
    }
   ],
   "source": [
    "# The list () Construtor\n",
    "\n",
    "Va1 = list((\"Apple\", \"Banana\", \"Monkey\")) # note the double round-brackets\n",
    "print(Va1)"
   ]
  },
  {
   "cell_type": "code",
   "execution_count": 86,
   "metadata": {},
   "outputs": [
    {
     "name": "stdout",
     "output_type": "stream",
     "text": [
      "Monkey\n"
     ]
    }
   ],
   "source": [
    "#Access Items \n",
    "Va1 = [\"Banana\", \"Monkey\", \"Zoo\"]\n",
    "print(Va1[1])"
   ]
  },
  {
   "cell_type": "code",
   "execution_count": 87,
   "metadata": {},
   "outputs": [
    {
     "name": "stdout",
     "output_type": "stream",
     "text": [
      "Zoo\n"
     ]
    }
   ],
   "source": [
    "# Negative Indexing (Start from the end)\n",
    "Va1 = [\"Banana\", \"Monkey\", \"Zoo\"]\n",
    "print(Va1[-1])"
   ]
  },
  {
   "cell_type": "code",
   "execution_count": 88,
   "metadata": {},
   "outputs": [
    {
     "name": "stdout",
     "output_type": "stream",
     "text": [
      "['Zoo', 'Lion', 'Tiger']\n"
     ]
    }
   ],
   "source": [
    "# Range of Index (Return the third, fourth, fifth)\n",
    "Va1 = [\"Banana\", \"Monkey\", \"Zoo\",\"Lion\",\"Tiger\",\"Dog\",\"Fish\"]\n",
    "print(Va1[2:5])"
   ]
  },
  {
   "cell_type": "code",
   "execution_count": 89,
   "metadata": {},
   "outputs": [
    {
     "name": "stdout",
     "output_type": "stream",
     "text": [
      "['Banana', 'Monkey', 'Zoo', 'Lion']\n"
     ]
    }
   ],
   "source": [
    "# Range will start at the first item to the fourth item)\n",
    "Va1 = [\"Banana\", \"Monkey\", \"Zoo\",\"Lion\",\"Tiger\",\"Dog\",\"Fish\"]\n",
    "print(Va1[:4])"
   ]
  },
  {
   "cell_type": "code",
   "execution_count": 90,
   "metadata": {},
   "outputs": [
    {
     "name": "stdout",
     "output_type": "stream",
     "text": [
      "['Zoo', 'Lion', 'Tiger', 'Dog', 'Fish']\n"
     ]
    }
   ],
   "source": [
    "# This will start from 2 to the end.\n",
    "Va1 = [\"Banana\", \"Monkey\", \"Zoo\",\"Lion\",\"Tiger\",\"Dog\",\"Fish\"]\n",
    "print(Va1[2:])"
   ]
  },
  {
   "cell_type": "code",
   "execution_count": 91,
   "metadata": {},
   "outputs": [
    {
     "name": "stdout",
     "output_type": "stream",
     "text": [
      "['Tiger', 'Dog', 'Fish']\n"
     ]
    }
   ],
   "source": [
    "# Range of Negative Indexes\n",
    "Va1 = [\"Banana\", \"Monkey\", \"Zoo\",\"Lion\",\"Tiger\",\"Dog\",\"Fish\",\"Cat\"]\n",
    "print(Va1[-4:-1]) # Index -4 (inculded) to index -1 (excluded)"
   ]
  },
  {
   "cell_type": "code",
   "execution_count": 92,
   "metadata": {},
   "outputs": [
    {
     "name": "stdout",
     "output_type": "stream",
     "text": [
      "Yes, 'Cat' is in present.\n"
     ]
    }
   ],
   "source": [
    "# Check if item Exists \n",
    "Va1 = [\"Banana\", \"Monkey\", \"Zoo\",\"Lion\",\"Tiger\",\"Dog\",\"Fish\",\"Cat\"]\n",
    "if 'Cat' in Va1:\n",
    "    print(\"Yes, 'Cat' is in present.\")"
   ]
  },
  {
   "cell_type": "code",
   "execution_count": 93,
   "metadata": {},
   "outputs": [
    {
     "name": "stdout",
     "output_type": "stream",
     "text": [
      "['Banana', 'Monkey', 'Zoo', 'Lion', 'Tiger', 'Dog', 'Snake', 'Cat']\n"
     ]
    }
   ],
   "source": [
    "# Change Item Value (Change the six item)\n",
    "Va1 = [\"Banana\", \"Monkey\", \"Zoo\",\"Lion\",\"Tiger\",\"Dog\",\"Fish\",\"Cat\"]\n",
    "Va1[6] = \"Snake\"\n",
    "print(Va1)"
   ]
  },
  {
   "cell_type": "code",
   "execution_count": 94,
   "metadata": {},
   "outputs": [
    {
     "name": "stdout",
     "output_type": "stream",
     "text": [
      "['Banana', 'Snake', 'Cobra', 'Lion', 'Tiger', 'Dog', 'Fish', 'Cat']\n"
     ]
    }
   ],
   "source": [
    "# Change a Range of item Value \n",
    "Va1 = [\"Banana\", \"Monkey\", \"Zoo\",\"Lion\",\"Tiger\",\"Dog\",\"Fish\",\"Cat\"]\n",
    "Va1[1:3]= [\"Snake\", \"Cobra\"]\n",
    "print(Va1)"
   ]
  },
  {
   "cell_type": "code",
   "execution_count": 95,
   "metadata": {},
   "outputs": [
    {
     "name": "stdout",
     "output_type": "stream",
     "text": [
      "['Banana', 'Snake', 'Cobra', 'Zoo', 'Lion', 'Tiger', 'Dog', 'Fish', 'Cat']\n"
     ]
    }
   ],
   "source": [
    "Va1 = [\"Banana\", \"Monkey\", \"Zoo\",\"Lion\",\"Tiger\",\"Dog\",\"Fish\",\"Cat\"]\n",
    "Va1[1:2] = [\"Snake\", \"Cobra\"]\n",
    "print(Va1)\n",
    "\n",
    "# Change the second value by replacing it with two new values:"
   ]
  },
  {
   "cell_type": "code",
   "execution_count": 96,
   "metadata": {},
   "outputs": [
    {
     "name": "stdout",
     "output_type": "stream",
     "text": [
      "['Banana', 'Watermelon', 'Lion', 'Tiger', 'Dog', 'Fish', 'Cat']\n"
     ]
    }
   ],
   "source": [
    "Va1 = [\"Banana\", \"Monkey\", \"Zoo\",\"Lion\",\"Tiger\",\"Dog\",\"Fish\",\"Cat\"]\n",
    "Va1[1:3]= [\"Watermelon\"]\n",
    "print(Va1)\n",
    "\n",
    "# Change the second and third values by replacing it with one value:"
   ]
  },
  {
   "cell_type": "code",
   "execution_count": 97,
   "metadata": {},
   "outputs": [
    {
     "name": "stdout",
     "output_type": "stream",
     "text": [
      "['Banana', 'Monkey', 'Zoo', 'Lion', 'Tiger', 'Dog', 'Fish', 'Cat', 'watermelon']\n"
     ]
    }
   ],
   "source": [
    "#Append Items ( Add an items at the end of the list)\n",
    "Va1 = [\"Banana\", \"Monkey\", \"Zoo\",\"Lion\",\"Tiger\",\"Dog\",\"Fish\",\"Cat\"]\n",
    "Va1.append(\"watermelon\")\n",
    "print(Va1)"
   ]
  },
  {
   "cell_type": "code",
   "execution_count": 98,
   "metadata": {},
   "outputs": [
    {
     "name": "stdout",
     "output_type": "stream",
     "text": [
      "['Watermelon', 'Banana', 'Monkey', 'Zoo', 'Lion', 'Tiger', 'Dog', 'Fish', 'Cat']\n"
     ]
    }
   ],
   "source": [
    "# Insert Items (To insert items at a specified index)\n",
    "Va1 = [\"Banana\", \"Monkey\", \"Zoo\",\"Lion\",\"Tiger\",\"Dog\",\"Fish\",\"Cat\"]\n",
    "Va1.insert(0,\"Watermelon\")\n",
    "print(Va1)"
   ]
  },
  {
   "cell_type": "code",
   "execution_count": 99,
   "metadata": {},
   "outputs": [
    {
     "name": "stdout",
     "output_type": "stream",
     "text": [
      "['Banana', 'Monkey', 'Zoo', 'Lion', 'Tiger', 'Dog', 'Fish', 'Cat', 'Baah', 'Samuel', 'Marcos']\n"
     ]
    }
   ],
   "source": [
    "# Extend list (Add another list to current list)\n",
    "Va1 = [\"Banana\", \"Monkey\", \"Zoo\",\"Lion\",\"Tiger\",\"Dog\",\"Fish\",\"Cat\"]\n",
    "Va2 = [\"Baah\", \"Samuel\",\"Marcos\"]\n",
    "Va1.extend(Va2)\n",
    "print(Va1)"
   ]
  },
  {
   "cell_type": "code",
   "execution_count": 100,
   "metadata": {},
   "outputs": [
    {
     "name": "stdout",
     "output_type": "stream",
     "text": [
      "['Banana', 'Monkey', 'Zoo', 'Lion', 'Tiger', 'Dog', 'Fish', 'Cat', 'Baah', 'Samuel', 'Marcos']\n"
     ]
    }
   ],
   "source": [
    "#Add any Iterable (method does not have to append list, you can add any iterable object (Tuples,sets,dictionaries etc.))\n",
    "Va1 =  [\"Banana\", \"Monkey\", \"Zoo\",\"Lion\",\"Tiger\",\"Dog\",\"Fish\",\"Cat\"]\n",
    "Va2 = (\"Baah\", \"Samuel\",\"Marcos\")\n",
    "Va1.extend(Va2)\n",
    "print(Va1)"
   ]
  },
  {
   "cell_type": "code",
   "execution_count": 101,
   "metadata": {},
   "outputs": [
    {
     "name": "stdout",
     "output_type": "stream",
     "text": [
      "['Banana', 'Zoo', 'Lion', 'Tiger', 'Dog', 'Fish', 'Cat']\n"
     ]
    }
   ],
   "source": [
    "# Remove Specified Item\n",
    "Va1 = [\"Banana\", \"Monkey\", \"Zoo\",\"Lion\",\"Tiger\",\"Dog\",\"Fish\",\"Cat\"]\n",
    "Va1.remove(\"Monkey\")\n",
    "print(Va1)"
   ]
  },
  {
   "cell_type": "code",
   "execution_count": 102,
   "metadata": {},
   "outputs": [
    {
     "name": "stdout",
     "output_type": "stream",
     "text": [
      "['Banana', 'Monkey', 'Lion', 'Tiger', 'Dog', 'Fish', 'Cat']\n"
     ]
    }
   ],
   "source": [
    "# Remove Specified Index\n",
    "Va1 = [\"Banana\", \"Monkey\", \"Zoo\",\"Lion\",\"Tiger\",\"Dog\",\"Fish\",\"Cat\"]\n",
    "Va1.pop(2)\n",
    "print(Va1)"
   ]
  },
  {
   "cell_type": "code",
   "execution_count": 103,
   "metadata": {},
   "outputs": [
    {
     "name": "stdout",
     "output_type": "stream",
     "text": [
      "['Banana', 'Monkey', 'Zoo', 'Lion', 'Tiger', 'Dog', 'Fish']\n"
     ]
    }
   ],
   "source": [
    "Va1= [\"Banana\", \"Monkey\", \"Zoo\",\"Lion\",\"Tiger\",\"Dog\",\"Fish\",\"Cat\"]\n",
    "Va1.pop()\n",
    "print(Va1)\n",
    "\n",
    "# Removes the last items if no index "
   ]
  },
  {
   "cell_type": "code",
   "execution_count": 104,
   "metadata": {},
   "outputs": [
    {
     "name": "stdout",
     "output_type": "stream",
     "text": [
      "['Banana', 'Zoo', 'Lion', 'Tiger', 'Dog', 'Fish', 'Cat']\n"
     ]
    }
   ],
   "source": [
    "# del \n",
    "Va1 = [\"Banana\", \"Monkey\", \"Zoo\",\"Lion\",\"Tiger\",\"Dog\",\"Fish\",\"Cat\"]\n",
    "del Va1 [1:2]\n",
    "print(Va1)"
   ]
  },
  {
   "cell_type": "code",
   "execution_count": 105,
   "metadata": {},
   "outputs": [],
   "source": [
    "Va1 = [\"Banana\", \"Monkey\", \"Zoo\",\"Lion\",\"Tiger\",\"Dog\",\"Fish\",\"Cat\"]\n",
    "del Va1"
   ]
  },
  {
   "cell_type": "code",
   "execution_count": 106,
   "metadata": {},
   "outputs": [
    {
     "name": "stdout",
     "output_type": "stream",
     "text": [
      "[]\n"
     ]
    }
   ],
   "source": [
    "# Clear the list (Method will empty the list)\n",
    "Va1 = [\"Banana\", \"Monkey\", \"Zoo\",\"Lion\",\"Tiger\",\"Dog\",\"Fish\",\"Cat\"]\n",
    "Va1.clear()\n",
    "print(Va1)"
   ]
  },
  {
   "cell_type": "code",
   "execution_count": 107,
   "metadata": {},
   "outputs": [
    {
     "name": "stdout",
     "output_type": "stream",
     "text": [
      "Banana\n",
      "Monkey\n",
      "Zoo\n",
      "Lion\n",
      "Tiger\n",
      "Dog\n",
      "Fish\n",
      "Cat\n"
     ]
    }
   ],
   "source": [
    "# Loop Through a list \n",
    "Va1 = [\"Banana\", \"Monkey\", \"Zoo\",\"Lion\",\"Tiger\",\"Dog\",\"Fish\",\"Cat\"]\n",
    "for x in Va1:\n",
    "    print(x)"
   ]
  },
  {
   "cell_type": "code",
   "execution_count": 108,
   "metadata": {},
   "outputs": [
    {
     "name": "stdout",
     "output_type": "stream",
     "text": [
      "Banana\n",
      "Monkey\n",
      "Zoo\n",
      "Lion\n",
      "Tiger\n",
      "Dog\n",
      "Fish\n",
      "Cat\n"
     ]
    }
   ],
   "source": [
    "# Loop Through the Index Number (use the range() and len() functions to create a suitable iterable)\n",
    "Va1 = [\"Banana\", \"Monkey\", \"Zoo\",\"Lion\",\"Tiger\",\"Dog\",\"Fish\",\"Cat\"]\n",
    "for i in range(len(Va1)):\n",
    "    print(Va1[i])"
   ]
  },
  {
   "cell_type": "code",
   "execution_count": 109,
   "metadata": {},
   "outputs": [
    {
     "name": "stdout",
     "output_type": "stream",
     "text": [
      "Banana\n",
      "Monkey\n",
      "Zoo\n",
      "Lion\n",
      "Tiger\n",
      "Dog\n",
      "Fish\n",
      "Cat\n"
     ]
    }
   ],
   "source": [
    "# Using a While Loop \n",
    "Va1 = [\"Banana\", \"Monkey\", \"Zoo\",\"Lion\",\"Tiger\",\"Dog\",\"Fish\",\"Cat\"]\n",
    "i = 0\n",
    "while i < len(Va1):\n",
    "    print(Va1[i])\n",
    "    i = i + 1"
   ]
  },
  {
   "cell_type": "code",
   "execution_count": 110,
   "metadata": {},
   "outputs": [
    {
     "name": "stdout",
     "output_type": "stream",
     "text": [
      "Samuel\n",
      "Joel\n",
      "Trina\n"
     ]
    }
   ],
   "source": [
    "Va2 = [\"Samuel\", \"Joel\", \"Trina\"]\n",
    "i = 0 \n",
    "while i < len(Va2):\n",
    "    print(Va2[i])\n",
    "    i = i + 1"
   ]
  },
  {
   "cell_type": "code",
   "execution_count": 111,
   "metadata": {},
   "outputs": [
    {
     "name": "stdout",
     "output_type": "stream",
     "text": [
      "Banana\n",
      "Monkey\n",
      "Zoo\n",
      "Lion\n",
      "Tiger\n",
      "Dog\n",
      "Fish\n",
      "Cat\n"
     ]
    },
    {
     "data": {
      "text/plain": [
       "[None, None, None, None, None, None, None, None]"
      ]
     },
     "execution_count": 111,
     "metadata": {},
     "output_type": "execute_result"
    }
   ],
   "source": [
    "# Looping Using List Comprehension (Shortest syntax for looping through lists:)\n",
    "Va1 = [\"Banana\", \"Monkey\", \"Zoo\",\"Lion\",\"Tiger\",\"Dog\",\"Fish\",\"Cat\"]\n",
    "[print(x) for x in Va1]"
   ]
  },
  {
   "cell_type": "code",
   "execution_count": 112,
   "metadata": {},
   "outputs": [
    {
     "name": "stdout",
     "output_type": "stream",
     "text": [
      "Samuel\n",
      "Joel\n",
      "Trina\n"
     ]
    },
    {
     "data": {
      "text/plain": [
       "[None, None, None]"
      ]
     },
     "execution_count": 112,
     "metadata": {},
     "output_type": "execute_result"
    }
   ],
   "source": [
    "Va2 = [\"Samuel\", \"Joel\", \"Trina\"]\n",
    "[print(x) for x in Va2]"
   ]
  },
  {
   "cell_type": "code",
   "execution_count": 113,
   "metadata": {},
   "outputs": [
    {
     "name": "stdout",
     "output_type": "stream",
     "text": [
      "['Samuel', 'Trina']\n"
     ]
    }
   ],
   "source": [
    "Va2 = [\"Samuel\", \"Joel\", \"Trina\"]\n",
    "newpaper= []\n",
    "for x in Va2:\n",
    "    if \"a\" in x:\n",
    "        newpaper.append(x)\n",
    "print(newpaper)\n"
   ]
  },
  {
   "cell_type": "code",
   "execution_count": 114,
   "metadata": {},
   "outputs": [
    {
     "name": "stdout",
     "output_type": "stream",
     "text": [
      "['Joel']\n"
     ]
    }
   ],
   "source": [
    "Va2 = [\"Samuel\", \"Joel\", \"Trina\"]\n",
    "newpaper = [x for x in Va2 if \"o\" in x]\n",
    "print(newpaper)"
   ]
  },
  {
   "cell_type": "code",
   "execution_count": 115,
   "metadata": {},
   "outputs": [
    {
     "name": "stdout",
     "output_type": "stream",
     "text": [
      "['Banana', 'Cat']\n"
     ]
    }
   ],
   "source": [
    "# List Comprehension ( Will print the List with \"a\" in it)\n",
    "Va1 = [\"Banana\", \"Monkey\", \"Zoo\",\"Lion\",\"Tiger\",\"Dog\",\"Fish\",\"Cat\"]\n",
    "newlist = []\n",
    "for x in Va1:\n",
    "    if \"a\" in x:\n",
    "        newlist.append(x)\n",
    "print(newlist)"
   ]
  },
  {
   "cell_type": "code",
   "execution_count": 116,
   "metadata": {},
   "outputs": [
    {
     "name": "stdout",
     "output_type": "stream",
     "text": [
      "['Monkey', 'Zoo', 'Lion', 'Dog']\n"
     ]
    }
   ],
   "source": [
    "Va1 = [\"Banana\", \"Monkey\", \"Zoo\",\"Lion\",\"Tiger\",\"Dog\",\"Fish\",\"Cat\"]\n",
    "newlist = []\n",
    "for x in Va1:\n",
    "    if \"o\" in x:\n",
    "        newlist.append(x)\n",
    "print(newlist)"
   ]
  },
  {
   "cell_type": "code",
   "execution_count": 117,
   "metadata": {},
   "outputs": [
    {
     "name": "stdout",
     "output_type": "stream",
     "text": [
      "['Lion', 'Tiger', 'Fish']\n"
     ]
    }
   ],
   "source": [
    "Va1 = [\"Banana\", \"Monkey\", \"Zoo\",\"Lion\",\"Tiger\",\"Dog\",\"Fish\",\"Cat\"]\n",
    "newlist = []\n",
    "for x in Va1:\n",
    "    if \"i\" in x:\n",
    "        newlist.append(x)\n",
    "print(newlist)"
   ]
  },
  {
   "cell_type": "code",
   "execution_count": 118,
   "metadata": {},
   "outputs": [
    {
     "name": "stdout",
     "output_type": "stream",
     "text": [
      "['Banana', 'Cat']\n"
     ]
    }
   ],
   "source": [
    "# With list comprehension you can do all that with only one line of code:\n",
    "\n",
    "Va1 = [\"Banana\", \"Monkey\", \"Zoo\",\"Lion\",\"Tiger\",\"Dog\",\"Fish\",\"Cat\"]\n",
    "newlist = [x for x in Va1 if \"a\" in x]\n",
    "print(newlist) "
   ]
  },
  {
   "cell_type": "markdown",
   "metadata": {},
   "source": [
    "## The Syntax"
   ]
  },
  {
   "cell_type": "code",
   "execution_count": 119,
   "metadata": {},
   "outputs": [
    {
     "name": "stdout",
     "output_type": "stream",
     "text": [
      "['Banana', 'Monkey', 'Lion', 'Tiger', 'Dog', 'Fish', 'Cat']\n"
     ]
    }
   ],
   "source": [
    "Va1 = [\"Banana\", \"Monkey\", \"Zoo\",\"Lion\",\"Tiger\",\"Dog\",\"Fish\",\"Cat\"]\n",
    "newlist = [x for x in Va1 if x != \"Zoo\"]\n",
    "print(newlist) "
   ]
  },
  {
   "cell_type": "code",
   "execution_count": 120,
   "metadata": {},
   "outputs": [
    {
     "name": "stdout",
     "output_type": "stream",
     "text": [
      "['Banana', 'Monkey', 'Zoo', 'Lion', 'Tiger', 'Dog', 'Fish', 'Cat']\n"
     ]
    }
   ],
   "source": [
    "Va1 = [\"Banana\", \"Monkey\", \"Zoo\",\"Lion\",\"Tiger\",\"Dog\",\"Fish\",\"Cat\"]\n",
    "newlist = [x for x in Va1 ]\n",
    "print(newlist)"
   ]
  },
  {
   "cell_type": "code",
   "execution_count": 121,
   "metadata": {},
   "outputs": [
    {
     "name": "stdout",
     "output_type": "stream",
     "text": [
      "[0, 1, 2, 3, 4, 5, 6, 7, 8, 9, 10]\n"
     ]
    }
   ],
   "source": [
    "newlist = [x for x in range (12) if x < 11]\n",
    "print(newlist)"
   ]
  },
  {
   "cell_type": "code",
   "execution_count": 122,
   "metadata": {},
   "outputs": [
    {
     "name": "stdout",
     "output_type": "stream",
     "text": [
      "['BANANA', 'MONKEY', 'ZOO', 'LION', 'TIGER', 'DOG', 'FISH', 'CAT']\n"
     ]
    }
   ],
   "source": [
    "newlist = [x.upper() for x in Va1] # New list Upper Case:\n",
    "print(newlist)"
   ]
  },
  {
   "cell_type": "code",
   "execution_count": 123,
   "metadata": {},
   "outputs": [
    {
     "name": "stdout",
     "output_type": "stream",
     "text": [
      "['hello', 'hello', 'hello', 'hello', 'hello', 'hello', 'hello', 'hello']\n"
     ]
    }
   ],
   "source": [
    "newlist = ['hello' for x in Va1]\n",
    "print(newlist)"
   ]
  },
  {
   "cell_type": "code",
   "execution_count": 124,
   "metadata": {},
   "outputs": [
    {
     "name": "stdout",
     "output_type": "stream",
     "text": [
      "['Banana', 'Monkey', 'Mouse', 'Lion', 'Tiger', 'Dog', 'Fish', 'Cat']\n"
     ]
    }
   ],
   "source": [
    "newlist = [x if x != \"Zoo\" else \"Mouse\" for x in Va1]\n",
    "print(newlist)"
   ]
  },
  {
   "cell_type": "code",
   "execution_count": 125,
   "metadata": {},
   "outputs": [
    {
     "name": "stdout",
     "output_type": "stream",
     "text": [
      "['Banana', 'Cat', 'Dog', 'Fish', 'Lion', 'Monkey', 'Tiger', 'Zoo']\n"
     ]
    }
   ],
   "source": [
    "# Sort Lists (Will sort the list alphabetically, ascending, by default)\n",
    "Va1 = [\"Banana\", \"Monkey\", \"Zoo\",\"Lion\",\"Tiger\",\"Dog\",\"Fish\",\"Cat\"]\n",
    "Va1.sort()\n",
    "print(Va1)"
   ]
  },
  {
   "cell_type": "code",
   "execution_count": 126,
   "metadata": {},
   "outputs": [
    {
     "name": "stdout",
     "output_type": "stream",
     "text": [
      "[0, 4, 5, 12, 77, 89, 144]\n"
     ]
    }
   ],
   "source": [
    "Num = [12,4,5,89,00,77,144]\n",
    "Num.sort()\n",
    "print(Num)"
   ]
  },
  {
   "cell_type": "code",
   "execution_count": 127,
   "metadata": {},
   "outputs": [
    {
     "name": "stdout",
     "output_type": "stream",
     "text": [
      "['Zoo', 'Tiger', 'Monkey', 'Lion', 'Fish', 'Dog', 'Cat', 'Banana']\n"
     ]
    }
   ],
   "source": [
    "# Sort Descending (Reverse = True)\n",
    "Va1 = [\"Banana\", \"Monkey\", \"Zoo\",\"Lion\",\"Tiger\",\"Dog\",\"Fish\",\"Cat\"]\n",
    "Va1.sort(reverse = True)\n",
    "print(Va1)"
   ]
  },
  {
   "cell_type": "code",
   "execution_count": 128,
   "metadata": {},
   "outputs": [
    {
     "name": "stdout",
     "output_type": "stream",
     "text": [
      "[40, 23, 65, 83, 100]\n"
     ]
    }
   ],
   "source": [
    "# Customize Sort Function\n",
    "\n",
    "def myfunc(n):\n",
    "    return abs(n - 40)\n",
    "Va1 = [100, 40, 65, 83, 23]\n",
    "Va1.sort(key = myfunc)\n",
    "print(Va1) "
   ]
  },
  {
   "cell_type": "code",
   "execution_count": 129,
   "metadata": {},
   "outputs": [
    {
     "name": "stdout",
     "output_type": "stream",
     "text": [
      "[61, 50, 20, 400, 500, 800]\n"
     ]
    }
   ],
   "source": [
    "def myfunc(m):\n",
    "    return abs (m - 60)\n",
    "Va1 = [500, 800,400,50,20,61]\n",
    "Va1.sort(key = myfunc)\n",
    "print(Va1)"
   ]
  },
  {
   "cell_type": "code",
   "execution_count": 130,
   "metadata": {},
   "outputs": [
    {
     "name": "stdout",
     "output_type": "stream",
     "text": [
      "['Monkey', 'Samuel', 'banana', 'zoo']\n"
     ]
    }
   ],
   "source": [
    "# Case Insensitive Sort\n",
    "Va1 = [\"banana\", \"Monkey\", \"zoo\", \"Samuel\"]\n",
    "Va1.sort()\n",
    "print(Va1)"
   ]
  },
  {
   "cell_type": "code",
   "execution_count": 131,
   "metadata": {},
   "outputs": [
    {
     "name": "stdout",
     "output_type": "stream",
     "text": [
      "['amen', 'banana', 'Monkey', 'Zoo']\n"
     ]
    }
   ],
   "source": [
    "# Perform a case-insensitive sort of the list:\n",
    "Va3 = [\"banana\", \"Monkey\", \"Zoo\", \"amen\"]\n",
    "Va3.sort(key = str.lower)\n",
    "print(Va3)"
   ]
  },
  {
   "cell_type": "code",
   "execution_count": 132,
   "metadata": {},
   "outputs": [
    {
     "name": "stdout",
     "output_type": "stream",
     "text": [
      "['Cat', 'Fish', 'Dog', 'Tiger', 'Lion', 'Zoo', 'Monkey', 'Banana']\n"
     ]
    }
   ],
   "source": [
    "# Reverse Sort\n",
    "Va1 = [\"Banana\", \"Monkey\", \"Zoo\",\"Lion\",\"Tiger\",\"Dog\",\"Fish\",\"Cat\"]\n",
    "Va1.reverse()\n",
    "print(Va1)"
   ]
  },
  {
   "cell_type": "code",
   "execution_count": 133,
   "metadata": {},
   "outputs": [
    {
     "name": "stdout",
     "output_type": "stream",
     "text": [
      "['Banana', 'Monkey', 'Zoo', 'Lion', 'Tiger', 'Dog', 'Fish', 'Cat']\n"
     ]
    }
   ],
   "source": [
    "# Copy a List\n",
    "Va1 = [\"Banana\", \"Monkey\", \"Zoo\",\"Lion\",\"Tiger\",\"Dog\",\"Fish\",\"Cat\"]\n",
    "mylist = Va1.copy()\n",
    "print(mylist)"
   ]
  },
  {
   "cell_type": "code",
   "execution_count": 134,
   "metadata": {},
   "outputs": [
    {
     "name": "stdout",
     "output_type": "stream",
     "text": [
      "['Banana', 'Monkey', 'Zoo', 'Lion', 'Tiger', 'Dog', 'Fish', 'Cat']\n"
     ]
    }
   ],
   "source": [
    "Va1 = [\"Banana\", \"Monkey\", \"Zoo\",\"Lion\",\"Tiger\",\"Dog\",\"Fish\",\"Cat\"]\n",
    "mylist = list(Va1)\n",
    "print(mylist)"
   ]
  },
  {
   "cell_type": "code",
   "execution_count": 135,
   "metadata": {},
   "outputs": [
    {
     "name": "stdout",
     "output_type": "stream",
     "text": [
      "['Banana', 'Monkey', 'Zoo', 'Lion', 'Tiger', 'Dog', 'Fish', 'Cat', 'Klk', 'Hola']\n"
     ]
    }
   ],
   "source": [
    "# Join Two Lists\n",
    "Va1 = [\"Banana\", \"Monkey\", \"Zoo\",\"Lion\",\"Tiger\",\"Dog\",\"Fish\",\"Cat\"]\n",
    "Va2 = [\"Klk\",\"Hola\"]\n",
    "Va3 = Va1 + Va2\n",
    "print(Va3)"
   ]
  },
  {
   "cell_type": "code",
   "execution_count": 136,
   "metadata": {},
   "outputs": [
    {
     "name": "stdout",
     "output_type": "stream",
     "text": [
      "['Banana', 'Monkey', 'Zoo', 'Lion', 'Tiger', 'Dog', 'Fish', 'Cat', 'Klk', 'hello']\n"
     ]
    }
   ],
   "source": [
    "# Append list2 into list1 \n",
    "Va1 = [\"Banana\", \"Monkey\", \"Zoo\",\"Lion\",\"Tiger\",\"Dog\",\"Fish\",\"Cat\"]\n",
    "Va2 = [\"Klk\",\"hello\"]\n",
    " \n",
    "for x in Va2:\n",
    "     Va1.append(x)\n",
    "print(Va1)"
   ]
  },
  {
   "cell_type": "code",
   "execution_count": 137,
   "metadata": {},
   "outputs": [
    {
     "name": "stdout",
     "output_type": "stream",
     "text": [
      "['Banana', 'Monkey', 'Zoo', 'Lion', 'Tiger', 'Dog', 'Fish', 'Cat', 'Klk', 'hello']\n"
     ]
    }
   ],
   "source": [
    "# Extend() method\n",
    "Va1 = [\"Banana\", \"Monkey\", \"Zoo\",\"Lion\",\"Tiger\",\"Dog\",\"Fish\",\"Cat\"]\n",
    "Va2 = [\"Klk\",\"hello\"]\n",
    "Va1.extend(Va2)\n",
    "print(Va1)"
   ]
  },
  {
   "cell_type": "code",
   "execution_count": 138,
   "metadata": {},
   "outputs": [],
   "source": [
    "elementos = [10, 20.5, \"Python\", 45, \"OpenAI\", 3.1415]\n",
    "# Listas vacías para clasificar los elementos\n",
    "numeros = []\n",
    "textos = []"
   ]
  },
  {
   "cell_type": "code",
   "execution_count": 139,
   "metadata": {},
   "outputs": [
    {
     "name": "stdout",
     "output_type": "stream",
     "text": [
      "este elemento es numero: [10, 20.5, 45, 3.1415]\n",
      "este elemento es numero: [10, 20.5, 45, 3.1415]\n",
      "este elemento es numero: [10, 20.5, 45, 3.1415]\n",
      "este elemento es numero: [10, 20.5, 45, 3.1415]\n",
      "este elemento es texto: ['Python', 'OpenAI']\n",
      "este elemento es texto: ['Python', 'OpenAI']\n"
     ]
    }
   ],
   "source": [
    "elementos = [10, 20.5, \"Python\", 45, \"OpenAI\", 3.1415]\n",
    "# Listas vacías para clasificar los elementos\n",
    "numeros = []\n",
    "textos = []\n",
    "\n",
    "for element in elementos:\n",
    "    if isinstance(element, (int,float)):\n",
    "        numeros.append(element)\n",
    "    elif isinstance(element, str):\n",
    "        textos.append(element)\n",
    "\n",
    "for numero in numeros:\n",
    "    print(f\"este elemento es numero: {numeros}\")\n",
    "\n",
    "for texto in textos:\n",
    "    print(f\"este elemento es texto: {textos}\")\n"
   ]
  },
  {
   "cell_type": "code",
   "execution_count": null,
   "metadata": {},
   "outputs": [],
   "source": []
  },
  {
   "cell_type": "code",
   "execution_count": null,
   "metadata": {},
   "outputs": [],
   "source": []
  },
  {
   "cell_type": "code",
   "execution_count": null,
   "metadata": {},
   "outputs": [],
   "source": []
  },
  {
   "cell_type": "code",
   "execution_count": null,
   "metadata": {},
   "outputs": [],
   "source": []
  },
  {
   "cell_type": "code",
   "execution_count": null,
   "metadata": {},
   "outputs": [],
   "source": []
  },
  {
   "cell_type": "code",
   "execution_count": null,
   "metadata": {},
   "outputs": [],
   "source": []
  },
  {
   "cell_type": "code",
   "execution_count": null,
   "metadata": {},
   "outputs": [],
   "source": []
  },
  {
   "cell_type": "code",
   "execution_count": null,
   "metadata": {},
   "outputs": [],
   "source": []
  },
  {
   "cell_type": "code",
   "execution_count": null,
   "metadata": {},
   "outputs": [],
   "source": []
  },
  {
   "cell_type": "code",
   "execution_count": null,
   "metadata": {},
   "outputs": [],
   "source": []
  },
  {
   "cell_type": "code",
   "execution_count": null,
   "metadata": {},
   "outputs": [],
   "source": []
  },
  {
   "cell_type": "code",
   "execution_count": null,
   "metadata": {},
   "outputs": [],
   "source": []
  },
  {
   "cell_type": "code",
   "execution_count": null,
   "metadata": {},
   "outputs": [],
   "source": []
  },
  {
   "cell_type": "code",
   "execution_count": null,
   "metadata": {},
   "outputs": [],
   "source": []
  },
  {
   "cell_type": "code",
   "execution_count": null,
   "metadata": {},
   "outputs": [],
   "source": []
  },
  {
   "cell_type": "code",
   "execution_count": null,
   "metadata": {},
   "outputs": [],
   "source": []
  },
  {
   "cell_type": "code",
   "execution_count": null,
   "metadata": {},
   "outputs": [],
   "source": []
  },
  {
   "cell_type": "code",
   "execution_count": null,
   "metadata": {},
   "outputs": [],
   "source": []
  },
  {
   "cell_type": "code",
   "execution_count": null,
   "metadata": {},
   "outputs": [],
   "source": []
  },
  {
   "cell_type": "code",
   "execution_count": null,
   "metadata": {},
   "outputs": [],
   "source": []
  },
  {
   "cell_type": "code",
   "execution_count": null,
   "metadata": {},
   "outputs": [],
   "source": []
  },
  {
   "cell_type": "code",
   "execution_count": null,
   "metadata": {},
   "outputs": [],
   "source": []
  },
  {
   "cell_type": "code",
   "execution_count": null,
   "metadata": {},
   "outputs": [],
   "source": []
  },
  {
   "cell_type": "code",
   "execution_count": null,
   "metadata": {},
   "outputs": [],
   "source": []
  },
  {
   "cell_type": "code",
   "execution_count": null,
   "metadata": {},
   "outputs": [],
   "source": []
  },
  {
   "cell_type": "code",
   "execution_count": null,
   "metadata": {},
   "outputs": [],
   "source": []
  },
  {
   "cell_type": "code",
   "execution_count": null,
   "metadata": {},
   "outputs": [],
   "source": []
  },
  {
   "cell_type": "code",
   "execution_count": null,
   "metadata": {},
   "outputs": [],
   "source": []
  },
  {
   "cell_type": "code",
   "execution_count": null,
   "metadata": {},
   "outputs": [],
   "source": []
  },
  {
   "cell_type": "code",
   "execution_count": null,
   "metadata": {},
   "outputs": [],
   "source": []
  },
  {
   "cell_type": "code",
   "execution_count": null,
   "metadata": {},
   "outputs": [],
   "source": []
  },
  {
   "cell_type": "code",
   "execution_count": null,
   "metadata": {},
   "outputs": [],
   "source": []
  },
  {
   "cell_type": "code",
   "execution_count": null,
   "metadata": {},
   "outputs": [],
   "source": []
  },
  {
   "cell_type": "code",
   "execution_count": null,
   "metadata": {},
   "outputs": [],
   "source": []
  },
  {
   "cell_type": "code",
   "execution_count": null,
   "metadata": {},
   "outputs": [],
   "source": []
  },
  {
   "cell_type": "code",
   "execution_count": null,
   "metadata": {},
   "outputs": [],
   "source": []
  },
  {
   "cell_type": "code",
   "execution_count": null,
   "metadata": {},
   "outputs": [],
   "source": []
  },
  {
   "cell_type": "code",
   "execution_count": null,
   "metadata": {},
   "outputs": [],
   "source": []
  },
  {
   "cell_type": "code",
   "execution_count": null,
   "metadata": {},
   "outputs": [],
   "source": []
  },
  {
   "cell_type": "code",
   "execution_count": null,
   "metadata": {},
   "outputs": [],
   "source": []
  },
  {
   "cell_type": "code",
   "execution_count": null,
   "metadata": {},
   "outputs": [],
   "source": []
  },
  {
   "cell_type": "code",
   "execution_count": null,
   "metadata": {},
   "outputs": [],
   "source": []
  },
  {
   "cell_type": "code",
   "execution_count": null,
   "metadata": {},
   "outputs": [],
   "source": []
  },
  {
   "cell_type": "code",
   "execution_count": null,
   "metadata": {},
   "outputs": [],
   "source": []
  },
  {
   "cell_type": "code",
   "execution_count": null,
   "metadata": {},
   "outputs": [],
   "source": []
  },
  {
   "cell_type": "code",
   "execution_count": null,
   "metadata": {},
   "outputs": [],
   "source": []
  },
  {
   "cell_type": "code",
   "execution_count": null,
   "metadata": {},
   "outputs": [],
   "source": []
  },
  {
   "cell_type": "code",
   "execution_count": null,
   "metadata": {},
   "outputs": [],
   "source": []
  },
  {
   "cell_type": "code",
   "execution_count": null,
   "metadata": {},
   "outputs": [],
   "source": []
  },
  {
   "cell_type": "code",
   "execution_count": null,
   "metadata": {},
   "outputs": [],
   "source": []
  },
  {
   "cell_type": "code",
   "execution_count": null,
   "metadata": {},
   "outputs": [],
   "source": []
  },
  {
   "cell_type": "code",
   "execution_count": null,
   "metadata": {},
   "outputs": [],
   "source": []
  },
  {
   "cell_type": "code",
   "execution_count": null,
   "metadata": {},
   "outputs": [],
   "source": []
  },
  {
   "cell_type": "code",
   "execution_count": null,
   "metadata": {},
   "outputs": [],
   "source": []
  },
  {
   "cell_type": "code",
   "execution_count": null,
   "metadata": {},
   "outputs": [],
   "source": []
  },
  {
   "cell_type": "code",
   "execution_count": null,
   "metadata": {},
   "outputs": [],
   "source": []
  },
  {
   "cell_type": "code",
   "execution_count": null,
   "metadata": {},
   "outputs": [],
   "source": []
  },
  {
   "cell_type": "code",
   "execution_count": null,
   "metadata": {},
   "outputs": [],
   "source": []
  },
  {
   "cell_type": "code",
   "execution_count": null,
   "metadata": {},
   "outputs": [],
   "source": []
  },
  {
   "cell_type": "code",
   "execution_count": null,
   "metadata": {},
   "outputs": [],
   "source": []
  },
  {
   "cell_type": "code",
   "execution_count": null,
   "metadata": {},
   "outputs": [],
   "source": []
  },
  {
   "cell_type": "code",
   "execution_count": null,
   "metadata": {},
   "outputs": [],
   "source": []
  },
  {
   "cell_type": "code",
   "execution_count": null,
   "metadata": {},
   "outputs": [],
   "source": []
  },
  {
   "cell_type": "code",
   "execution_count": null,
   "metadata": {},
   "outputs": [],
   "source": []
  },
  {
   "cell_type": "code",
   "execution_count": null,
   "metadata": {},
   "outputs": [],
   "source": []
  },
  {
   "cell_type": "code",
   "execution_count": null,
   "metadata": {},
   "outputs": [],
   "source": []
  },
  {
   "cell_type": "code",
   "execution_count": null,
   "metadata": {},
   "outputs": [],
   "source": []
  },
  {
   "cell_type": "code",
   "execution_count": null,
   "metadata": {},
   "outputs": [],
   "source": []
  },
  {
   "cell_type": "code",
   "execution_count": null,
   "metadata": {},
   "outputs": [],
   "source": []
  },
  {
   "cell_type": "code",
   "execution_count": null,
   "metadata": {},
   "outputs": [],
   "source": []
  },
  {
   "cell_type": "code",
   "execution_count": null,
   "metadata": {},
   "outputs": [],
   "source": []
  },
  {
   "cell_type": "code",
   "execution_count": null,
   "metadata": {},
   "outputs": [],
   "source": []
  },
  {
   "cell_type": "code",
   "execution_count": null,
   "metadata": {},
   "outputs": [],
   "source": []
  },
  {
   "cell_type": "code",
   "execution_count": null,
   "metadata": {},
   "outputs": [],
   "source": []
  },
  {
   "cell_type": "code",
   "execution_count": null,
   "metadata": {},
   "outputs": [],
   "source": []
  },
  {
   "cell_type": "code",
   "execution_count": null,
   "metadata": {},
   "outputs": [],
   "source": []
  },
  {
   "cell_type": "code",
   "execution_count": null,
   "metadata": {},
   "outputs": [],
   "source": []
  },
  {
   "cell_type": "code",
   "execution_count": null,
   "metadata": {},
   "outputs": [],
   "source": []
  },
  {
   "cell_type": "code",
   "execution_count": null,
   "metadata": {},
   "outputs": [],
   "source": []
  },
  {
   "cell_type": "code",
   "execution_count": null,
   "metadata": {},
   "outputs": [],
   "source": []
  },
  {
   "cell_type": "code",
   "execution_count": null,
   "metadata": {},
   "outputs": [],
   "source": []
  },
  {
   "cell_type": "code",
   "execution_count": null,
   "metadata": {},
   "outputs": [],
   "source": []
  },
  {
   "cell_type": "code",
   "execution_count": null,
   "metadata": {},
   "outputs": [],
   "source": []
  },
  {
   "cell_type": "code",
   "execution_count": null,
   "metadata": {},
   "outputs": [],
   "source": []
  },
  {
   "cell_type": "code",
   "execution_count": null,
   "metadata": {},
   "outputs": [],
   "source": []
  },
  {
   "cell_type": "code",
   "execution_count": null,
   "metadata": {},
   "outputs": [],
   "source": []
  },
  {
   "cell_type": "code",
   "execution_count": null,
   "metadata": {},
   "outputs": [],
   "source": []
  },
  {
   "cell_type": "code",
   "execution_count": null,
   "metadata": {},
   "outputs": [],
   "source": []
  },
  {
   "cell_type": "code",
   "execution_count": null,
   "metadata": {},
   "outputs": [],
   "source": []
  },
  {
   "cell_type": "code",
   "execution_count": null,
   "metadata": {},
   "outputs": [],
   "source": []
  },
  {
   "cell_type": "code",
   "execution_count": null,
   "metadata": {},
   "outputs": [],
   "source": []
  },
  {
   "cell_type": "code",
   "execution_count": null,
   "metadata": {},
   "outputs": [],
   "source": []
  },
  {
   "cell_type": "code",
   "execution_count": null,
   "metadata": {},
   "outputs": [],
   "source": []
  },
  {
   "cell_type": "code",
   "execution_count": null,
   "metadata": {},
   "outputs": [],
   "source": []
  },
  {
   "cell_type": "code",
   "execution_count": null,
   "metadata": {},
   "outputs": [],
   "source": []
  },
  {
   "cell_type": "code",
   "execution_count": null,
   "metadata": {},
   "outputs": [],
   "source": []
  },
  {
   "cell_type": "code",
   "execution_count": null,
   "metadata": {},
   "outputs": [],
   "source": []
  },
  {
   "cell_type": "code",
   "execution_count": null,
   "metadata": {},
   "outputs": [],
   "source": []
  },
  {
   "cell_type": "code",
   "execution_count": null,
   "metadata": {},
   "outputs": [],
   "source": []
  },
  {
   "cell_type": "code",
   "execution_count": null,
   "metadata": {},
   "outputs": [],
   "source": []
  },
  {
   "cell_type": "code",
   "execution_count": null,
   "metadata": {},
   "outputs": [],
   "source": []
  },
  {
   "cell_type": "code",
   "execution_count": null,
   "metadata": {},
   "outputs": [],
   "source": []
  },
  {
   "cell_type": "code",
   "execution_count": null,
   "metadata": {},
   "outputs": [],
   "source": []
  },
  {
   "cell_type": "code",
   "execution_count": null,
   "metadata": {},
   "outputs": [],
   "source": []
  },
  {
   "cell_type": "code",
   "execution_count": null,
   "metadata": {},
   "outputs": [],
   "source": []
  },
  {
   "cell_type": "code",
   "execution_count": null,
   "metadata": {},
   "outputs": [],
   "source": []
  },
  {
   "cell_type": "code",
   "execution_count": null,
   "metadata": {},
   "outputs": [],
   "source": []
  },
  {
   "cell_type": "code",
   "execution_count": null,
   "metadata": {},
   "outputs": [],
   "source": []
  },
  {
   "cell_type": "code",
   "execution_count": null,
   "metadata": {},
   "outputs": [],
   "source": []
  },
  {
   "cell_type": "code",
   "execution_count": null,
   "metadata": {},
   "outputs": [],
   "source": []
  },
  {
   "cell_type": "code",
   "execution_count": null,
   "metadata": {},
   "outputs": [],
   "source": []
  },
  {
   "cell_type": "code",
   "execution_count": null,
   "metadata": {},
   "outputs": [],
   "source": []
  },
  {
   "cell_type": "code",
   "execution_count": null,
   "metadata": {},
   "outputs": [],
   "source": []
  },
  {
   "cell_type": "code",
   "execution_count": null,
   "metadata": {},
   "outputs": [],
   "source": []
  },
  {
   "cell_type": "code",
   "execution_count": null,
   "metadata": {},
   "outputs": [],
   "source": []
  }
 ],
 "metadata": {
  "kernelspec": {
   "display_name": "PracticasPython",
   "language": "python",
   "name": "python3"
  },
  "language_info": {
   "codemirror_mode": {
    "name": "ipython",
    "version": 3
   },
   "file_extension": ".py",
   "mimetype": "text/x-python",
   "name": "python",
   "nbconvert_exporter": "python",
   "pygments_lexer": "ipython3",
   "version": "3.10.13"
  }
 },
 "nbformat": 4,
 "nbformat_minor": 2
}
